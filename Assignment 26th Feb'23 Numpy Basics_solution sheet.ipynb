{
 "cells": [
  {
   "cell_type": "code",
   "execution_count": null,
   "id": "a8f934dc-5069-436f-bda5-c27ff9dbaa1f",
   "metadata": {},
   "outputs": [],
   "source": [
    "Consider the below code to answer further questions:\n",
    "import numpy as np\n",
    "list_ = [ ‘1’ , ’2’ , ‘3’ , ‘4’ , ‘5’ ]\n",
    "array_list = np.array(object = list_)"
   ]
  },
  {
   "cell_type": "markdown",
   "id": "2af171e1-1c31-46b3-932c-2e110a657c38",
   "metadata": {},
   "source": [
    "Q1. Is there any difference in the data type of variables list_ and array_list? If there is then write a code to print the data types of both the variables."
   ]
  },
  {
   "cell_type": "markdown",
   "id": "5ac8963e-bf64-44fa-a9ac-4257ffea362c",
   "metadata": {},
   "source": [
    "Answer - Yes, there is a difference in the data type of variables list_ and array_list.\n",
    "\n",
    "The variable list_ is a Python list data type, whereas the variable array_list is a NumPy array data type.\n",
    "\n",
    "To print the data types of both variables, I can use the built-in type() function in Python as follows:"
   ]
  },
  {
   "cell_type": "code",
   "execution_count": 1,
   "id": "c00a1fa5-fdcd-4aa1-932f-276dd2633b8c",
   "metadata": {},
   "outputs": [],
   "source": [
    "import numpy as np\n",
    "list_ = [ '1' , '2' , '3' , '4' , '5' ]\n",
    "array_list = np.array(object = list_)"
   ]
  },
  {
   "cell_type": "code",
   "execution_count": 4,
   "id": "01fe584a-7f0f-4a80-828f-2517771ea5df",
   "metadata": {},
   "outputs": [
    {
     "data": {
      "text/plain": [
       "list"
      ]
     },
     "execution_count": 4,
     "metadata": {},
     "output_type": "execute_result"
    }
   ],
   "source": [
    "type(list_)"
   ]
  },
  {
   "cell_type": "code",
   "execution_count": 5,
   "id": "6933e65b-977b-4948-9887-d99b3702fd0c",
   "metadata": {},
   "outputs": [
    {
     "data": {
      "text/plain": [
       "numpy.ndarray"
      ]
     },
     "execution_count": 5,
     "metadata": {},
     "output_type": "execute_result"
    }
   ],
   "source": [
    "type(array_list)"
   ]
  },
  {
   "cell_type": "markdown",
   "id": "34d012f8-ce13-4655-a228-0900684dd0b0",
   "metadata": {},
   "source": [
    "Here, the first print statement prints the data type of list_ as <class 'list'> which confirms that list_ is a Python list object. The second print statement prints the data type of array_list as <class 'numpy.ndarray'> which confirms that array_list is a NumPy array object."
   ]
  },
  {
   "cell_type": "markdown",
   "id": "4466409a-8ad1-4b0e-9339-4b69314aa4ff",
   "metadata": {},
   "source": [
    "Q2. Write a code to print the data type of each and every element of both the variables list_ and arra_list."
   ]
  },
  {
   "cell_type": "code",
   "execution_count": 6,
   "id": "765e55da-e389-44d2-80b1-ce3a1be38334",
   "metadata": {},
   "outputs": [
    {
     "name": "stdout",
     "output_type": "stream",
     "text": [
      "<class 'str'>\n",
      "<class 'str'>\n",
      "<class 'str'>\n",
      "<class 'str'>\n",
      "<class 'str'>\n",
      "<class 'numpy.str_'>\n",
      "<class 'numpy.str_'>\n",
      "<class 'numpy.str_'>\n",
      "<class 'numpy.str_'>\n",
      "<class 'numpy.str_'>\n"
     ]
    }
   ],
   "source": [
    "import numpy as np\n",
    "\n",
    "list_ = [ '1' , '2' , '3' , '4' , '5' ]\n",
    "array_list = np.array(object = list_)\n",
    "\n",
    "for element in list_:\n",
    "    print(type(element))\n",
    "    \n",
    "for element in array_list:\n",
    "    print(type(element))"
   ]
  },
  {
   "cell_type": "markdown",
   "id": "d28f8057-08f3-4120-ba93-874349ebe061",
   "metadata": {},
   "source": [
    "Q3. Considering the following changes in the variable, array_list:\n",
    "\n",
    "array_list = np.array(object = list_, dtype = int)\n",
    "\n",
    "Will there be any difference in the data type of the elements present in both the variables, list_ and arra_list? If so then print the data types of each and every element present in both the variables, list_ and arra_list.\n",
    "\n",
    "Consider the below code to answer further questions:\n",
    "\n",
    "import numpy as np\n",
    "num_list = [ [ 1 , 2 , 3 ] , [ 4 , 5 , 6 ] ]\n",
    "num_array = np.array(object = num_list)"
   ]
  },
  {
   "cell_type": "markdown",
   "id": "01c2b7df-be7c-42a9-8abb-89b4440bc9e1",
   "metadata": {},
   "source": [
    "Answer 3. Yes, there will be a difference in the data type of the elements present in both the variables list_ and array_list when the code array_list = np.array(object=list_, dtype=int) is executed.\n",
    "\n",
    "The dtype=int argument specifies that the elements in array_list should be converted to integers. Therefore, the data type of the elements in array_list will be changed from numpy.str_ to numpy.int64.\n",
    "\n",
    "To print the data types of each and every element present in both the variables list_ and array_list, we can use a loop and the type() function as follows:"
   ]
  },
  {
   "cell_type": "code",
   "execution_count": 7,
   "id": "8fe5397b-6b3e-4265-894c-25c082806675",
   "metadata": {},
   "outputs": [
    {
     "name": "stdout",
     "output_type": "stream",
     "text": [
      "<class 'str'>\n",
      "<class 'str'>\n",
      "<class 'str'>\n",
      "<class 'str'>\n",
      "<class 'str'>\n",
      "<class 'numpy.int64'>\n",
      "<class 'numpy.int64'>\n",
      "<class 'numpy.int64'>\n",
      "<class 'numpy.int64'>\n",
      "<class 'numpy.int64'>\n"
     ]
    }
   ],
   "source": [
    "import numpy as np\n",
    "\n",
    "list_ = ['1', '2', '3', '4', '5']\n",
    "array_list = np.array(object=list_, dtype=int)\n",
    "\n",
    "\n",
    "for element in list_:\n",
    "    print(type(element))\n",
    "\n",
    "for element in array_list:\n",
    "    print(type(element))"
   ]
  },
  {
   "cell_type": "code",
   "execution_count": 8,
   "id": "b19d1477-586e-4425-8f75-b84574faf9f6",
   "metadata": {},
   "outputs": [
    {
     "name": "stdout",
     "output_type": "stream",
     "text": [
      "<class 'int'>\n",
      "<class 'int'>\n",
      "<class 'int'>\n",
      "<class 'int'>\n",
      "<class 'int'>\n",
      "<class 'int'>\n",
      "<class 'numpy.int64'>\n",
      "<class 'numpy.int64'>\n",
      "<class 'numpy.int64'>\n",
      "<class 'numpy.int64'>\n",
      "<class 'numpy.int64'>\n",
      "<class 'numpy.int64'>\n"
     ]
    }
   ],
   "source": [
    "import numpy as np\n",
    "\n",
    "num_list = [[1, 2, 3], [4, 5, 6]]\n",
    "num_array = np.array(object=num_list)\n",
    "\n",
    "\n",
    "for sublist in num_list:\n",
    "    for element in sublist:\n",
    "        print(type(element))\n",
    "\n",
    "\n",
    "for element in num_array.flat:\n",
    "    print(type(element))"
   ]
  },
  {
   "cell_type": "markdown",
   "id": "9a3e843c-8ae0-4856-bf77-41e2d4f10c70",
   "metadata": {},
   "source": [
    "Q4. Write a code to find the following characteristics of variable, num_array:\n",
    "\n",
    "(i) shape\n",
    "\n",
    "(ii) size"
   ]
  },
  {
   "cell_type": "markdown",
   "id": "88d522c5-69fb-4345-bf7d-b6cf2547d22f",
   "metadata": {},
   "source": [
    "Answer. To find the characteristics of the variable num_array, we can use the following NumPy array attributes:\n",
    "\n",
    "1. shape: returns a tuple of integers representing the dimensions of the array.\n",
    "2. size: returns the total number of elements in the array.\n",
    "\n",
    "\n",
    "Here is the code to find the shape and size of num_array:"
   ]
  },
  {
   "cell_type": "code",
   "execution_count": 10,
   "id": "a612a83b-d8c9-4895-bbf4-a29c6b61f1e4",
   "metadata": {},
   "outputs": [
    {
     "name": "stdout",
     "output_type": "stream",
     "text": [
      "Shape of num_array: (2, 3)\n",
      "Size of num_array: 6\n"
     ]
    }
   ],
   "source": [
    "import numpy as np\n",
    "\n",
    "num_list = [[1, 2, 3], [4, 5, 6]]\n",
    "num_array = np.array(num_list)\n",
    "\n",
    "\n",
    "print(\"Shape of num_array:\", num_array.shape)\n",
    "\n",
    "print(\"Size of num_array:\", num_array.size)\n"
   ]
  },
  {
   "cell_type": "markdown",
   "id": "0a04c71b-7568-4329-81a6-b595a82aa050",
   "metadata": {},
   "source": [
    "Q5. Write a code to create numpy array of 3*3 matrix containing zeros only, using a numpy array creation function.\n",
    "\n",
    "[Hint: The size of the array will be 9 and the shape will be (3,3).]"
   ]
  },
  {
   "cell_type": "code",
   "execution_count": 13,
   "id": "af22003f-633e-4e27-9bd3-a3c235fb9637",
   "metadata": {},
   "outputs": [
    {
     "name": "stdout",
     "output_type": "stream",
     "text": [
      "[[0. 0. 0.]\n",
      " [0. 0. 0.]\n",
      " [0. 0. 0.]]\n"
     ]
    }
   ],
   "source": [
    "import numpy as np\n",
    "\n",
    "zeros_array = np.zeros((3,3))\n",
    "\n",
    "print(zeros_array)"
   ]
  },
  {
   "cell_type": "markdown",
   "id": "3f86676d-0bc6-44ad-9306-e8e4993a85ad",
   "metadata": {},
   "source": [
    "Q6. Create an identity matrix of shape (5,5) using numpy functions?\n",
    "\n",
    "[Hint: An identity matrix is a matrix containing 1 diagonally and other elements will be 0.]"
   ]
  },
  {
   "cell_type": "code",
   "execution_count": 14,
   "id": "dfb80aa8-687b-4dd2-8c38-269c47db2363",
   "metadata": {},
   "outputs": [
    {
     "name": "stdout",
     "output_type": "stream",
     "text": [
      "[[1. 0. 0. 0. 0.]\n",
      " [0. 1. 0. 0. 0.]\n",
      " [0. 0. 1. 0. 0.]\n",
      " [0. 0. 0. 1. 0.]\n",
      " [0. 0. 0. 0. 1.]]\n"
     ]
    }
   ],
   "source": [
    "import numpy as np\n",
    "\n",
    "identity_matrix = np.identity(5)\n",
    "\n",
    "print(identity_matrix)"
   ]
  },
  {
   "cell_type": "code",
   "execution_count": null,
   "id": "7033179e-da20-49da-930e-b923e7c3d81b",
   "metadata": {},
   "outputs": [],
   "source": []
  }
 ],
 "metadata": {
  "kernelspec": {
   "display_name": "Python 3 (ipykernel)",
   "language": "python",
   "name": "python3"
  },
  "language_info": {
   "codemirror_mode": {
    "name": "ipython",
    "version": 3
   },
   "file_extension": ".py",
   "mimetype": "text/x-python",
   "name": "python",
   "nbconvert_exporter": "python",
   "pygments_lexer": "ipython3",
   "version": "3.10.8"
  }
 },
 "nbformat": 4,
 "nbformat_minor": 5
}
